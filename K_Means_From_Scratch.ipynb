{
  "cells": [
    {
      "cell_type": "markdown",
      "metadata": {
        "id": "xmAV1lQU5Rm6"
      },
      "source": [
        "K-means clustering is a method which aims to partition n observations into k clusters in which each observation belongs to the cluster with the nearest mean."
      ]
    },
    {
      "cell_type": "markdown",
      "metadata": {
        "id": "QqLlkAii5Rm0"
      },
      "source": [
        "## Importing Libraries"
      ]
    },
    {
      "cell_type": "code",
      "execution_count": null,
      "metadata": {
        "id": "48hjMYyK5Rm3",
        "colab": {
          "base_uri": "https://localhost:8080/"
        },
        "outputId": "037e87b3-eac8-47a8-cfaa-a3e4d5200b9e"
      },
      "outputs": [
        {
          "output_type": "stream",
          "name": "stdout",
          "text": [
            "Mounted at /content/drive\n"
          ]
        }
      ],
      "source": [
        "from copy import deepcopy\n",
        "import numpy as np\n",
        "import pandas as pd\n",
        "import random\n",
        "import math\n",
        "from matplotlib import pyplot as plt\n",
        "import seaborn as sns"
      ]
    },
    {
      "cell_type": "code",
      "execution_count": null,
      "metadata": {
        "id": "vAdE_RUf5Rm9"
      },
      "outputs": [],
      "source": [
        "## Plotting Settings\n",
        "plt.rcParams['figure.figsize'] = (16, 9)\n",
        "plt.style.use('ggplot')"
      ]
    },
    {
      "cell_type": "markdown",
      "metadata": {
        "id": "m9cQNN0u5Rm-"
      },
      "source": [
        "Some of the brief description of algorithm is as follows:\n",
        "\n",
        "\n",
        "1.   Place K centroids at random locations.\n",
        "2.   Assign all the data points to the closest centroid.\n",
        "3.  Compute the new centroids as the mean of all points in the cluster\n",
        "4.   Compute the Sum of Squared errors between new and old centroids\n"
      ]
    },
    {
      "cell_type": "markdown",
      "metadata": {
        "id": "LHu_ms2e5Rm_"
      },
      "source": [
        "Import Dataset `mydataset.csv` and output shape along with first 5 rows"
      ]
    },
    {
      "cell_type": "code",
      "execution_count": null,
      "metadata": {
        "id": "sfop8vbo5RnB",
        "colab": {
          "base_uri": "https://localhost:8080/",
          "height": 223
        },
        "outputId": "097886c7-d8a4-4d2d-df45-ef343be34cdd"
      },
      "outputs": [
        {
          "output_type": "stream",
          "name": "stdout",
          "text": [
            "Data Shape: (86, 2)\n"
          ]
        },
        {
          "output_type": "execute_result",
          "data": {
            "text/plain": [
              "   0.227679823996937  0.858204148057458\n",
              "0           0.979188           0.077151\n",
              "1           0.504577           0.553114\n",
              "2           0.058132           0.528098\n",
              "3           0.775343           0.217922\n",
              "4           0.550424           0.470860"
            ],
            "text/html": [
              "\n",
              "  <div id=\"df-f267520d-26e8-4eca-b15b-027c19f2e6fb\">\n",
              "    <div class=\"colab-df-container\">\n",
              "      <div>\n",
              "<style scoped>\n",
              "    .dataframe tbody tr th:only-of-type {\n",
              "        vertical-align: middle;\n",
              "    }\n",
              "\n",
              "    .dataframe tbody tr th {\n",
              "        vertical-align: top;\n",
              "    }\n",
              "\n",
              "    .dataframe thead th {\n",
              "        text-align: right;\n",
              "    }\n",
              "</style>\n",
              "<table border=\"1\" class=\"dataframe\">\n",
              "  <thead>\n",
              "    <tr style=\"text-align: right;\">\n",
              "      <th></th>\n",
              "      <th>0.227679823996937</th>\n",
              "      <th>0.858204148057458</th>\n",
              "    </tr>\n",
              "  </thead>\n",
              "  <tbody>\n",
              "    <tr>\n",
              "      <th>0</th>\n",
              "      <td>0.979188</td>\n",
              "      <td>0.077151</td>\n",
              "    </tr>\n",
              "    <tr>\n",
              "      <th>1</th>\n",
              "      <td>0.504577</td>\n",
              "      <td>0.553114</td>\n",
              "    </tr>\n",
              "    <tr>\n",
              "      <th>2</th>\n",
              "      <td>0.058132</td>\n",
              "      <td>0.528098</td>\n",
              "    </tr>\n",
              "    <tr>\n",
              "      <th>3</th>\n",
              "      <td>0.775343</td>\n",
              "      <td>0.217922</td>\n",
              "    </tr>\n",
              "    <tr>\n",
              "      <th>4</th>\n",
              "      <td>0.550424</td>\n",
              "      <td>0.470860</td>\n",
              "    </tr>\n",
              "  </tbody>\n",
              "</table>\n",
              "</div>\n",
              "      <button class=\"colab-df-convert\" onclick=\"convertToInteractive('df-f267520d-26e8-4eca-b15b-027c19f2e6fb')\"\n",
              "              title=\"Convert this dataframe to an interactive table.\"\n",
              "              style=\"display:none;\">\n",
              "        \n",
              "  <svg xmlns=\"http://www.w3.org/2000/svg\" height=\"24px\"viewBox=\"0 0 24 24\"\n",
              "       width=\"24px\">\n",
              "    <path d=\"M0 0h24v24H0V0z\" fill=\"none\"/>\n",
              "    <path d=\"M18.56 5.44l.94 2.06.94-2.06 2.06-.94-2.06-.94-.94-2.06-.94 2.06-2.06.94zm-11 1L8.5 8.5l.94-2.06 2.06-.94-2.06-.94L8.5 2.5l-.94 2.06-2.06.94zm10 10l.94 2.06.94-2.06 2.06-.94-2.06-.94-.94-2.06-.94 2.06-2.06.94z\"/><path d=\"M17.41 7.96l-1.37-1.37c-.4-.4-.92-.59-1.43-.59-.52 0-1.04.2-1.43.59L10.3 9.45l-7.72 7.72c-.78.78-.78 2.05 0 2.83L4 21.41c.39.39.9.59 1.41.59.51 0 1.02-.2 1.41-.59l7.78-7.78 2.81-2.81c.8-.78.8-2.07 0-2.86zM5.41 20L4 18.59l7.72-7.72 1.47 1.35L5.41 20z\"/>\n",
              "  </svg>\n",
              "      </button>\n",
              "      \n",
              "  <style>\n",
              "    .colab-df-container {\n",
              "      display:flex;\n",
              "      flex-wrap:wrap;\n",
              "      gap: 12px;\n",
              "    }\n",
              "\n",
              "    .colab-df-convert {\n",
              "      background-color: #E8F0FE;\n",
              "      border: none;\n",
              "      border-radius: 50%;\n",
              "      cursor: pointer;\n",
              "      display: none;\n",
              "      fill: #1967D2;\n",
              "      height: 32px;\n",
              "      padding: 0 0 0 0;\n",
              "      width: 32px;\n",
              "    }\n",
              "\n",
              "    .colab-df-convert:hover {\n",
              "      background-color: #E2EBFA;\n",
              "      box-shadow: 0px 1px 2px rgba(60, 64, 67, 0.3), 0px 1px 3px 1px rgba(60, 64, 67, 0.15);\n",
              "      fill: #174EA6;\n",
              "    }\n",
              "\n",
              "    [theme=dark] .colab-df-convert {\n",
              "      background-color: #3B4455;\n",
              "      fill: #D2E3FC;\n",
              "    }\n",
              "\n",
              "    [theme=dark] .colab-df-convert:hover {\n",
              "      background-color: #434B5C;\n",
              "      box-shadow: 0px 1px 3px 1px rgba(0, 0, 0, 0.15);\n",
              "      filter: drop-shadow(0px 1px 2px rgba(0, 0, 0, 0.3));\n",
              "      fill: #FFFFFF;\n",
              "    }\n",
              "  </style>\n",
              "\n",
              "      <script>\n",
              "        const buttonEl =\n",
              "          document.querySelector('#df-f267520d-26e8-4eca-b15b-027c19f2e6fb button.colab-df-convert');\n",
              "        buttonEl.style.display =\n",
              "          google.colab.kernel.accessAllowed ? 'block' : 'none';\n",
              "\n",
              "        async function convertToInteractive(key) {\n",
              "          const element = document.querySelector('#df-f267520d-26e8-4eca-b15b-027c19f2e6fb');\n",
              "          const dataTable =\n",
              "            await google.colab.kernel.invokeFunction('convertToInteractive',\n",
              "                                                     [key], {});\n",
              "          if (!dataTable) return;\n",
              "\n",
              "          const docLinkHtml = 'Like what you see? Visit the ' +\n",
              "            '<a target=\"_blank\" href=https://colab.research.google.com/notebooks/data_table.ipynb>data table notebook</a>'\n",
              "            + ' to learn more about interactive tables.';\n",
              "          element.innerHTML = '';\n",
              "          dataTable['output_type'] = 'display_data';\n",
              "          await google.colab.output.renderOutput(dataTable, element);\n",
              "          const docLink = document.createElement('div');\n",
              "          docLink.innerHTML = docLinkHtml;\n",
              "          element.appendChild(docLink);\n",
              "        }\n",
              "      </script>\n",
              "    </div>\n",
              "  </div>\n",
              "  "
            ]
          },
          "metadata": {},
          "execution_count": 3
        }
      ],
      "source": [
        "# Importing the dataset\n",
        "df = pd.read_csv('mydataset.csv')\n",
        "print(f'Data Shape: {df.shape}')\n",
        "df.head(5)"
      ]
    },
    {
      "cell_type": "markdown",
      "source": [
        "Extract first column in x variable and second column in y variable"
      ],
      "metadata": {
        "id": "gRLdpk6fH6lm"
      }
    },
    {
      "cell_type": "code",
      "execution_count": null,
      "metadata": {
        "id": "zXbzECyzFXBw"
      },
      "outputs": [],
      "source": [
        "x = df.iloc[:, 0]\n",
        "y = df.iloc[:, 1]"
      ]
    },
    {
      "cell_type": "markdown",
      "source": [
        "Run the below cell to visualize the dataset"
      ],
      "metadata": {
        "id": "_Dt9q54kYTE_"
      }
    },
    {
      "cell_type": "code",
      "execution_count": null,
      "metadata": {
        "id": "IUySbXy65RnC",
        "colab": {
          "base_uri": "https://localhost:8080/",
          "height": 817
        },
        "outputId": "2c213d7b-cc84-467d-fd1b-f4ef9e2499f1"
      },
      "outputs": [
        {
          "output_type": "execute_result",
          "data": {
            "text/plain": [
              "Text(0.5, 1.0, 'Initial Scatter plot')"
            ]
          },
          "metadata": {},
          "execution_count": 5
        },
        {
          "output_type": "display_data",
          "data": {
            "text/plain": [
              "<Figure size 1600x900 with 1 Axes>"
            ],
            "image/png": "[encoded data removed]"
          },
          "metadata": {}
        }
      ],
      "source": [
        "X = np.array(list(zip(x, y)))\n",
        "plt.scatter(x, y, c='black', s=20)\n",
        "plt.xlabel('x')\n",
        "plt.ylabel('y')\n",
        "plt.title('Initial Scatter plot')"
      ]
    },
    {
      "cell_type": "markdown",
      "source": [
        "Calculate the Euclidean distance"
      ],
      "metadata": {
        "id": "5cnaidG3bLVK"
      }
    },
    {
      "cell_type": "code",
      "execution_count": null,
      "metadata": {
        "id": "1scCRmuk5RnF"
      },
      "outputs": [],
      "source": [
        "def euclidean(x, y, ax = 1):\n",
        "  l2norm = np.sum(np.abs(x - y)**2, axis = 1)**(1/2)\n",
        "  return l2norm"
      ]
    },
    {
      "cell_type": "markdown",
      "metadata": {
        "id": "zR1Y0nZu5RnH"
      },
      "source": [
        "Generate k random centroids for x and y coordinates with the range of  [0-maximum value in the column]"
      ]
    },
    {
      "cell_type": "code",
      "source": [
        "# Setting up range for x and y\n",
        "x_min, x_max = min(x), max(x)\n",
        "y_min, y_max = min(y), max(y)"
      ],
      "metadata": {
        "id": "m2zj5TGijzQM"
      },
      "execution_count": null,
      "outputs": []
    },
    {
      "cell_type": "code",
      "source": [
        "# Number of clusters\n",
        "k = 3\n",
        "\n",
        "# X coordinates of random centroids\n",
        "C_x = [random.uniform(x_min, x_max) for i in range(k)]\n",
        "\n",
        "# Y coordinates of random centroids\n",
        "C_y = [random.uniform(y_min, y_max) for i in range(k)]\n",
        "\n",
        "C = np.array(list(zip(C_x, C_y)), dtype = np.float32)\n",
        "print(\"Initial Centroids\")\n",
        "print(C)"
      ],
      "metadata": {
        "id": "lmIqaH23Mgr8",
        "colab": {
          "base_uri": "https://localhost:8080/"
        },
        "outputId": "f3d3c6f0-77ae-4967-a0f0-fceeda42cccf"
      },
      "execution_count": null,
      "outputs": [
        {
          "output_type": "stream",
          "name": "stdout",
          "text": [
            "Initial Centroids\n",
            "[[0.09235327 0.35363883]\n",
            " [0.30755925 0.32749394]\n",
            " [0.264387   0.00699726]]\n"
          ]
        }
      ]
    },
    {
      "cell_type": "markdown",
      "source": [
        "\n",
        "visualize the dataset along with the centroids using scatter plot"
      ],
      "metadata": {
        "id": "xOFfsfmQM4bK"
      }
    },
    {
      "cell_type": "code",
      "execution_count": null,
      "metadata": {
        "id": "1kPSHrER5RnJ",
        "colab": {
          "base_uri": "https://localhost:8080/",
          "height": 770
        },
        "outputId": "e3405e6d-c6b0-4d39-b64b-2b7ad663f895"
      },
      "outputs": [
        {
          "output_type": "execute_result",
          "data": {
            "text/plain": [
              "<matplotlib.collections.PathCollection at 0x7f2927ee7580>"
            ]
          },
          "metadata": {},
          "execution_count": 9
        },
        {
          "output_type": "display_data",
          "data": {
            "text/plain": [
              "<Figure size 1600x900 with 1 Axes>"
            ],
            "image/png": "[encoded data removed]"
          },
          "metadata": {}
        }
      ],
      "source": [
        "# Plotting along with the Centroids\n",
        "plt.scatter(x, y, c = '#050505', s=20)\n",
        "plt.scatter(C_x, C_y, marker = '*', s=200, c = 'b')"
      ]
    },
    {
      "cell_type": "markdown",
      "metadata": {
        "id": "LeIZmWDQHYMh"
      },
      "source": [
        "compute error between old centroids and new centroids and return the error"
      ]
    },
    {
      "cell_type": "code",
      "execution_count": null,
      "metadata": {
        "id": "QDrjU9pvHbYY"
      },
      "outputs": [],
      "source": [
        "def computeError(old_centers, new_centers):\n",
        "  return np.sum((new_centers - old_centers) ** 2)\n",
        "  pass"
      ]
    },
    {
      "cell_type": "markdown",
      "source": [
        "In the function `assign_members` you will take all points of the dataset along with the centroids as parameters and will assign the points to the clusters according to their centroids. Return cluster arrays having their corresponding data points.\n"
      ],
      "metadata": {
        "id": "uzPQ1uB0X7MB"
      }
    },
    {
      "cell_type": "code",
      "source": [
        "def assign_members(centroids):\n",
        "  clusters = [np.array([[0, 0]])] * 3 # Declaring an empty 3 x 3 np array whose first array will be the x-y coardinates for the first cluster and so on.\n",
        "  # For each point in the data\n",
        "  for x_point, y_point in zip(x, y):\n",
        "    coard = np.array([[x_point, y_point]], dtype = np.float32) # we convert it into a numpy\n",
        "    min_dist = np.argmin([euclidean(centroids[0], coard), euclidean(centroids[1], coard), euclidean(centroids[2], coard)]) # Calculate min distance from all clusters\n",
        "    clusters[min_dist] = np.vstack((clusters[min_dist], coard)) # Using the min distance index, accordingly assign the row in clusters that point\n",
        "  return clusters[0], clusters[1], clusters[2] # return all three clusters seperately."
      ],
      "metadata": {
        "id": "xcLALOqEoNgx"
      },
      "execution_count": null,
      "outputs": []
    },
    {
      "cell_type": "markdown",
      "source": [
        "Define a function that updates the centroid of each cluster. Return updated centroids\n"
      ],
      "metadata": {
        "id": "DIwJtmM5ZMgC"
      }
    },
    {
      "cell_type": "code",
      "source": [
        "def update_centroids(cluster1, cluster2, cluster3):\n",
        "  # Your code goes here\n",
        "  return np.mean(cluster1, axis = 0), np.mean(cluster2, axis = 0), np.mean(cluster3, axis = 0)"
      ],
      "metadata": {
        "id": "GAT1023cZM1W"
      },
      "execution_count": null,
      "outputs": []
    },
    {
      "cell_type": "markdown",
      "source": [
        "Implement K-Mean algorithm from scratch."
      ],
      "metadata": {
        "id": "1WuqkF-BVwWZ"
      }
    },
    {
      "cell_type": "code",
      "source": [
        "# Initialize original cluster\n",
        "old_centroids = C\n",
        "\n",
        "error = 10000000\n",
        "\n",
        "while error != 0:\n",
        "  # Assign points to nearest clusters\n",
        "  cluster1, cluster2, cluster3 = assign_members(old_centroids)\n",
        "  # Get new centroids by taking mean of each cluster\n",
        "  updated_centroids = update_centroids(cluster1, cluster2, cluster3)\n",
        "  # Combine the centroids\n",
        "  updated_centroids = np.vstack((np.vstack((updated_centroids[0], updated_centroids[1])), updated_centroids[2]))\n",
        "  # Compute error\n",
        "  error = computeError(old_centroids, updated_centroids)\n",
        "  # Assign old to updated before next iteration\n",
        "  old_centroids = updated_centroids\n",
        "\n",
        "old_centroids"
      ],
      "metadata": {
        "colab": {
          "base_uri": "https://localhost:8080/"
        },
        "id": "zIsNC_yHvzfn",
        "outputId": "5d16eaf0-a611-486e-c2d8-67f73f5e5698"
      },
      "execution_count": null,
      "outputs": [
        {
          "output_type": "execute_result",
          "data": {
            "text/plain": [
              "array([[0.11621531, 0.71702428],\n",
              "       [0.58891676, 0.55217442],\n",
              "       [0.68796767, 0.15745729]])"
            ]
          },
          "metadata": {},
          "execution_count": 13
        }
      ]
    },
    {
      "cell_type": "code",
      "source": [
        "# Now get the data points for each of the three centroids\n",
        "c1, c2, c3 = assign_members(old_centroids)"
      ],
      "metadata": {
        "id": "2ZfHXuKf6kvy"
      },
      "execution_count": null,
      "outputs": []
    },
    {
      "cell_type": "code",
      "source": [
        "# Due to assigining 0's intially, we have to remove them from c1, c2, c3\n",
        "c1, c2, c3 = c1[1:], c2[1:], c3[1:]"
      ],
      "metadata": {
        "id": "lXNCvcS_7ind"
      },
      "execution_count": null,
      "outputs": []
    },
    {
      "cell_type": "code",
      "source": [
        "# Joining them as a list to make easier iteration\n",
        "neighbours = [c1, c2, c3]"
      ],
      "metadata": {
        "id": "_kDyPNXL9PJn"
      },
      "execution_count": null,
      "outputs": []
    },
    {
      "cell_type": "code",
      "source": [
        "# Visualising Clusters\n",
        "colors = ['r', 'g', 'b']\n",
        "for i in range(k):\n",
        "  plt.scatter(neighbours[i][:, 0], neighbours[i][:, 1], s = 50, c = colors[i])\n",
        "  plt.scatter(old_centroids[i][0], old_centroids[i][1], marker = '*', s = 200, linewidths = 3, c = colors[i])"
      ],
      "metadata": {
        "colab": {
          "base_uri": "https://localhost:8080/",
          "height": 753
        },
        "id": "N4FYpwrt8zmf",
        "outputId": "80b9d542-3a89-4f4c-b4fd-5a4f7506754f"
      },
      "execution_count": null,
      "outputs": [
        {
          "output_type": "display_data",
          "data": {
            "text/plain": [
              "<Figure size 1600x900 with 1 Axes>"
            ],
            "image/png": "[encoded data removed]"
          },
          "metadata": {}
        }
      ]
    }
  ],
  "metadata": {
    "colab": {
      "provenance": []
    },
    "kernelspec": {
      "display_name": "Python 3",
      "language": "python",
      "name": "python3"
    },
    "language_info": {
      "codemirror_mode": {
        "name": "ipython",
        "version": 3
      },
      "file_extension": ".py",
      "mimetype": "text/x-python",
      "name": "python",
      "nbconvert_exporter": "python",
      "pygments_lexer": "ipython3",
      "version": "3.7.4"
    }
  },
  "nbformat": 4,
  "nbformat_minor": 0
}
