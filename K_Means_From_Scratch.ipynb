{
  "cells": [
    {
      "cell_type": "markdown",
      "metadata": {
        "id": "xmAV1lQU5Rm6"
      },
      "source": [
        "K-means clustering is a method which aims to partition n observations into k clusters in which each observation belongs to the cluster with the nearest mean."
      ]
    },
    {
      "cell_type": "markdown",
      "metadata": {
        "id": "QqLlkAii5Rm0"
      },
      "source": [
        "## Importing Libraries"
      ]
    },
    {
      "cell_type": "code",
      "execution_count": 1,
      "metadata": {
        "colab": {
          "base_uri": "https://localhost:8080/"
        },
        "id": "48hjMYyK5Rm3",
        "outputId": "037e87b3-eac8-47a8-cfaa-a3e4d5200b9e"
      },
      "outputs": [],
      "source": [
        "from copy import deepcopy\n",
        "import numpy as np\n",
        "import pandas as pd\n",
        "import random\n",
        "import math\n",
        "from matplotlib import pyplot as plt\n",
        "import seaborn as sns"
      ]
    },
    {
      "cell_type": "code",
      "execution_count": 2,
      "metadata": {
        "id": "vAdE_RUf5Rm9"
      },
      "outputs": [],
      "source": [
        "## Plotting Settings\n",
        "plt.rcParams['figure.figsize'] = (16, 9)\n",
        "plt.style.use('ggplot')"
      ]
    },
    {
      "cell_type": "markdown",
      "metadata": {
        "id": "m9cQNN0u5Rm-"
      },
      "source": [
        "Some of the brief description of algorithm is as follows:\n",
        "\n",
        "\n",
        "1.   Place K centroids at random locations.\n",
        "2.   Assign all the data points to the closest centroid.\n",
        "3.  Compute the new centroids as the mean of all points in the cluster\n",
        "4.   Compute the Sum of Squared errors between new and old centroids\n"
      ]
    },
    {
      "cell_type": "markdown",
      "metadata": {
        "id": "LHu_ms2e5Rm_"
      },
      "source": [
        "Import Dataset `mydataset.csv` and output shape along with first 5 rows"
      ]
    },
    {
      "cell_type": "code",
      "execution_count": 3,
      "metadata": {
        "colab": {
          "base_uri": "https://localhost:8080/",
          "height": 223
        },
        "id": "sfop8vbo5RnB",
        "outputId": "097886c7-d8a4-4d2d-df45-ef343be34cdd"
      },
      "outputs": [
        {
          "name": "stdout",
          "output_type": "stream",
          "text": [
            "Data Shape: (86, 2)\n"
          ]
        },
        {
          "data": {
            "text/html": [
              "<div>\n",
              "<style scoped>\n",
              "    .dataframe tbody tr th:only-of-type {\n",
              "        vertical-align: middle;\n",
              "    }\n",
              "\n",
              "    .dataframe tbody tr th {\n",
              "        vertical-align: top;\n",
              "    }\n",
              "\n",
              "    .dataframe thead th {\n",
              "        text-align: right;\n",
              "    }\n",
              "</style>\n",
              "<table border=\"1\" class=\"dataframe\">\n",
              "  <thead>\n",
              "    <tr style=\"text-align: right;\">\n",
              "      <th></th>\n",
              "      <th>0.227679823996937</th>\n",
              "      <th>0.858204148057458</th>\n",
              "    </tr>\n",
              "  </thead>\n",
              "  <tbody>\n",
              "    <tr>\n",
              "      <th>0</th>\n",
              "      <td>0.979188</td>\n",
              "      <td>0.077151</td>\n",
              "    </tr>\n",
              "    <tr>\n",
              "      <th>1</th>\n",
              "      <td>0.504577</td>\n",
              "      <td>0.553114</td>\n",
              "    </tr>\n",
              "    <tr>\n",
              "      <th>2</th>\n",
              "      <td>0.058132</td>\n",
              "      <td>0.528098</td>\n",
              "    </tr>\n",
              "    <tr>\n",
              "      <th>3</th>\n",
              "      <td>0.775343</td>\n",
              "      <td>0.217922</td>\n",
              "    </tr>\n",
              "    <tr>\n",
              "      <th>4</th>\n",
              "      <td>0.550424</td>\n",
              "      <td>0.470860</td>\n",
              "    </tr>\n",
              "  </tbody>\n",
              "</table>\n",
              "</div>"
            ],
            "text/plain": [
              "   0.227679823996937  0.858204148057458\n",
              "0           0.979188           0.077151\n",
              "1           0.504577           0.553114\n",
              "2           0.058132           0.528098\n",
              "3           0.775343           0.217922\n",
              "4           0.550424           0.470860"
            ]
          },
          "execution_count": 3,
          "metadata": {},
          "output_type": "execute_result"
        }
      ],
      "source": [
        "# Importing the dataset\n",
        "df = pd.read_csv('mydataset.csv')\n",
        "print(f'Data Shape: {df.shape}')\n",
        "df.head(5)"
      ]
    },
    {
      "cell_type": "markdown",
      "metadata": {
        "id": "gRLdpk6fH6lm"
      },
      "source": [
        "Extract first column in x variable and second column in y variable"
      ]
    },
    {
      "cell_type": "code",
      "execution_count": 4,
      "metadata": {
        "id": "zXbzECyzFXBw"
      },
      "outputs": [],
      "source": [
        "x = df.iloc[:, 0]\n",
        "y = df.iloc[:, 1]"
      ]
    },
    {
      "cell_type": "markdown",
      "metadata": {
        "id": "_Dt9q54kYTE_"
      },
      "source": [
        "Run the below cell to visualize the dataset"
      ]
    },
    {
      "cell_type": "code",
      "execution_count": 5,
      "metadata": {
        "colab": {
          "base_uri": "https://localhost:8080/",
          "height": 817
        },
        "id": "IUySbXy65RnC",
        "outputId": "2c213d7b-cc84-467d-fd1b-f4ef9e2499f1"
      },
      "outputs": [
        {
          "data": {
            "text/plain": [
              "Text(0.5, 1.0, 'Initial Scatter plot')"
            ]
          },
          "execution_count": 5,
          "metadata": {},
          "output_type": "execute_result"
        },
        {
          "data": {
            "image/png": "[encoded data removed]",
            "text/plain": [
              "<Figure size 1600x900 with 1 Axes>"
            ]
          },
          "metadata": {},
          "output_type": "display_data"
        }
      ],
      "source": [
        "X = np.array(list(zip(x, y)))\n",
        "plt.scatter(x, y, c='black', s=20)\n",
        "plt.xlabel('x')\n",
        "plt.ylabel('y')\n",
        "plt.title('Initial Scatter plot')"
      ]
    },
    {
      "cell_type": "markdown",
      "metadata": {
        "id": "5cnaidG3bLVK"
      },
      "source": [
        "Calculate the Euclidean distance"
      ]
    },
    {
      "cell_type": "code",
      "execution_count": 6,
      "metadata": {
        "id": "1scCRmuk5RnF"
      },
      "outputs": [],
      "source": [
        "def euclidean(x, y, ax = 1):\n",
        "  l2norm = np.sum(np.abs(x - y)**2, axis = 1)**(1/2)\n",
        "  return l2norm"
      ]
    },
    {
      "cell_type": "markdown",
      "metadata": {
        "id": "zR1Y0nZu5RnH"
      },
      "source": [
        "Generate k random centroids for x and y coordinates with the range of  [0-maximum value in the column]"
      ]
    },
    {
      "cell_type": "code",
      "execution_count": 7,
      "metadata": {
        "id": "m2zj5TGijzQM"
      },
      "outputs": [],
      "source": [
        "# Setting up range for x and y\n",
        "x_min, x_max = min(x), max(x)\n",
        "y_min, y_max = min(y), max(y)"
      ]
    },
    {
      "cell_type": "code",
      "execution_count": 8,
      "metadata": {
        "colab": {
          "base_uri": "https://localhost:8080/"
        },
        "id": "lmIqaH23Mgr8",
        "outputId": "f3d3c6f0-77ae-4967-a0f0-fceeda42cccf"
      },
      "outputs": [
        {
          "name": "stdout",
          "output_type": "stream",
          "text": [
            "Initial Centroids\n",
            "[[0.41106194 0.31513378]\n",
            " [0.0617038  0.43159187]\n",
            " [0.01809703 0.86920947]]\n"
          ]
        }
      ],
      "source": [
        "# Number of clusters\n",
        "k = 3\n",
        "\n",
        "# X coordinates of random centroids\n",
        "C_x = [random.uniform(x_min, x_max) for i in range(k)]\n",
        "\n",
        "# Y coordinates of random centroids\n",
        "C_y = [random.uniform(y_min, y_max) for i in range(k)]\n",
        "\n",
        "C = np.array(list(zip(C_x, C_y)), dtype = np.float32)\n",
        "print(\"Initial Centroids\")\n",
        "print(C)"
      ]
    },
    {
      "cell_type": "markdown",
      "metadata": {
        "id": "xOFfsfmQM4bK"
      },
      "source": [
        "\n",
        "visualize the dataset along with the centroids using scatter plot"
      ]
    },
    {
      "cell_type": "code",
      "execution_count": 9,
      "metadata": {
        "colab": {
          "base_uri": "https://localhost:8080/",
          "height": 770
        },
        "id": "1kPSHrER5RnJ",
        "outputId": "e3405e6d-c6b0-4d39-b64b-2b7ad663f895"
      },
      "outputs": [
        {
          "data": {
            "text/plain": [
              "<matplotlib.collections.PathCollection at 0x26af50cb910>"
            ]
          },
          "execution_count": 9,
          "metadata": {},
          "output_type": "execute_result"
        },
        {
          "data": {
            "image/png": "[encoded data removed]",
            "text/plain": [
              "<Figure size 1600x900 with 1 Axes>"
            ]
          },
          "metadata": {},
          "output_type": "display_data"
        }
      ],
      "source": [
        "# Plotting along with the Centroids\n",
        "plt.scatter(x, y, c = '#050505', s=20)\n",
        "plt.scatter(C_x, C_y, marker = '*', s=200, c = 'b')"
      ]
    },
    {
      "cell_type": "markdown",
      "metadata": {
        "id": "LeIZmWDQHYMh"
      },
      "source": [
        "compute error between old centroids and new centroids and return the error"
      ]
    },
    {
      "cell_type": "code",
      "execution_count": 10,
      "metadata": {
        "id": "QDrjU9pvHbYY"
      },
      "outputs": [],
      "source": [
        "def computeError(old_centers, new_centers):\n",
        "  return np.sum((new_centers - old_centers) ** 2)\n",
        "  pass"
      ]
    },
    {
      "cell_type": "markdown",
      "metadata": {
        "id": "uzPQ1uB0X7MB"
      },
      "source": [
        "In the function `assign_members` you will take all points of the dataset along with the centroids as parameters and will assign the points to the clusters according to their centroids. Return cluster arrays having their corresponding data points.\n"
      ]
    },
    {
      "cell_type": "code",
      "execution_count": 11,
      "metadata": {
        "id": "xcLALOqEoNgx"
      },
      "outputs": [],
      "source": [
        "def assign_members(centroids):\n",
        "  clusters = [np.array([[0, 0]])] * 3 # Declaring an empty 3 x 3 np array whose first array will be the x-y coardinates for the first cluster and so on.\n",
        "  # For each point in the data\n",
        "  for x_point, y_point in zip(x, y):\n",
        "    coard = np.array([[x_point, y_point]], dtype = np.float32) # we convert it into a numpy\n",
        "    min_dist = np.argmin([euclidean(centroids[0], coard), euclidean(centroids[1], coard), euclidean(centroids[2], coard)]) # Calculate min distance from all clusters\n",
        "    clusters[min_dist] = np.vstack((clusters[min_dist], coard)) # Using the min distance index, accordingly assign the row in clusters that point\n",
        "  return clusters[0], clusters[1], clusters[2] # return all three clusters seperately."
      ]
    },
    {
      "cell_type": "markdown",
      "metadata": {
        "id": "DIwJtmM5ZMgC"
      },
      "source": [
        "Define a function that updates the centroid of each cluster. Return updated centroids\n"
      ]
    },
    {
      "cell_type": "code",
      "execution_count": 12,
      "metadata": {
        "id": "GAT1023cZM1W"
      },
      "outputs": [],
      "source": [
        "def update_centroids(cluster1, cluster2, cluster3):\n",
        "  # Your code goes here\n",
        "  return np.mean(cluster1, axis = 0), np.mean(cluster2, axis = 0), np.mean(cluster3, axis = 0)"
      ]
    },
    {
      "cell_type": "markdown",
      "metadata": {
        "id": "1WuqkF-BVwWZ"
      },
      "source": [
        "Implement K-Mean algorithm from scratch."
      ]
    },
    {
      "cell_type": "code",
      "execution_count": 13,
      "metadata": {
        "colab": {
          "base_uri": "https://localhost:8080/"
        },
        "id": "zIsNC_yHvzfn",
        "outputId": "5d16eaf0-a611-486e-c2d8-67f73f5e5698"
      },
      "outputs": [
        {
          "data": {
            "text/plain": [
              "array([[0.65405527, 0.34765835],\n",
              "       [0.09686966, 0.51053908],\n",
              "       [0.15857431, 0.79286664]])"
            ]
          },
          "execution_count": 13,
          "metadata": {},
          "output_type": "execute_result"
        }
      ],
      "source": [
        "# Initialize original cluster\n",
        "old_centroids = C\n",
        "\n",
        "error = 10000000\n",
        "\n",
        "while error != 0:\n",
        "  # Assign points to nearest clusters\n",
        "  cluster1, cluster2, cluster3 = assign_members(old_centroids)\n",
        "  # Get new centroids by taking mean of each cluster\n",
        "  updated_centroids = update_centroids(cluster1, cluster2, cluster3)\n",
        "  # Combine the centroids\n",
        "  updated_centroids = np.vstack((np.vstack((updated_centroids[0], updated_centroids[1])), updated_centroids[2]))\n",
        "  # Compute error\n",
        "  error = computeError(old_centroids, updated_centroids)\n",
        "  # Assign old to updated before next iteration\n",
        "  old_centroids = updated_centroids\n",
        "\n",
        "old_centroids"
      ]
    },
    {
      "cell_type": "code",
      "execution_count": 14,
      "metadata": {
        "id": "2ZfHXuKf6kvy"
      },
      "outputs": [],
      "source": [
        "# Now get the data points for each of the three centroids\n",
        "c1, c2, c3 = assign_members(old_centroids)"
      ]
    },
    {
      "cell_type": "code",
      "execution_count": 15,
      "metadata": {
        "id": "lXNCvcS_7ind"
      },
      "outputs": [],
      "source": [
        "# Due to assigining 0's intially, we have to remove them from c1, c2, c3\n",
        "c1, c2, c3 = c1[1:], c2[1:], c3[1:]"
      ]
    },
    {
      "cell_type": "code",
      "execution_count": 16,
      "metadata": {
        "id": "_kDyPNXL9PJn"
      },
      "outputs": [],
      "source": [
        "# Joining them as a list to make easier iteration\n",
        "neighbours = [c1, c2, c3]"
      ]
    },
    {
      "cell_type": "code",
      "execution_count": 17,
      "metadata": {
        "colab": {
          "base_uri": "https://localhost:8080/",
          "height": 753
        },
        "id": "N4FYpwrt8zmf",
        "outputId": "80b9d542-3a89-4f4c-b4fd-5a4f7506754f"
      },
      "outputs": [
        {
          "data": {
            "image/png": "[encoded data removed]",
            "text/plain": [
              "<Figure size 1600x900 with 1 Axes>"
            ]
          },
          "metadata": {},
          "output_type": "display_data"
        }
      ],
      "source": [
        "# Visualising Clusters\n",
        "colors = ['r', 'g', 'b']\n",
        "for i in range(k):\n",
        "  plt.scatter(neighbours[i][:, 0], neighbours[i][:, 1], s = 50, c = colors[i])\n",
        "  plt.scatter(old_centroids[i][0], old_centroids[i][1], marker = '*', s = 200, linewidths = 3, c = colors[i])"
      ]
    },
    {
      "cell_type": "code",
      "execution_count": null,
      "metadata": {},
      "outputs": [],
      "source": []
    }
  ],
  "metadata": {
    "colab": {
      "provenance": []
    },
    "kernelspec": {
      "display_name": "Python 3",
      "language": "python",
      "name": "python3"
    },
    "language_info": {
      "codemirror_mode": {
        "name": "ipython",
        "version": 3
      },
      "file_extension": ".py",
      "mimetype": "text/x-python",
      "name": "python",
      "nbconvert_exporter": "python",
      "pygments_lexer": "ipython3",
      "version": "3.11.0"
    }
  },
  "nbformat": 4,
  "nbformat_minor": 0
}
